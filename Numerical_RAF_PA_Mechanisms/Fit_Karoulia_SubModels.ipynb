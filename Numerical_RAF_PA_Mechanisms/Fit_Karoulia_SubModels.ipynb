{
 "cells": [
  {
   "cell_type": "raw",
   "metadata": {},
   "source": [
    "# This file runs in 8 hours using 5 cores at 2-3GhZ with 8GB RAM.\n",
    "%config Completer.use_jedi = False # Disable jedi autocompleter to fix autocomplete issues. This may not be necessary with newer versions"
   ]
  },
  {
   "cell_type": "code",
   "execution_count": 1,
   "metadata": {},
   "outputs": [],
   "source": [
    "# import libraries\n",
    "import numpy as np\n",
    "import os\n",
    "import random as rand\n",
    "import seaborn as sbn\n",
    "from matplotlib import pyplot as plt\n",
    "import pandas as pd\n",
    "from multiprocess import Pool, cpu_count"
   ]
  },
  {
   "cell_type": "code",
   "execution_count": 2,
   "metadata": {},
   "outputs": [],
   "source": [
    "import modelfn"
   ]
  },
  {
   "cell_type": "markdown",
   "metadata": {},
   "source": [
    "## Step0: "
   ]
  },
  {
   "cell_type": "markdown",
   "metadata": {},
   "source": [
    "## Input data and define Metric and Fit Objective Functions"
   ]
  },
  {
   "cell_type": "raw",
   "metadata": {},
   "source": [
    "# uncomment this block to run the simulation anew. - This is not necessary to reproduce results, prerun results are provided.\n",
    "def fitmeta(ff):\n",
    "    \"\"\"Input fitflag options:'0','1','2','CA','NC','DP','DPNC','CADP','CANC'. Output is a best-fit parameters dataframe\"\"\"\n",
    "    # -- Import Libraries --\n",
    "    from fitdata import fitdata\n",
    "    import pandas as pd\n",
    "    # define a function to Normalize the data by loading control and by the drug-free readout\n",
    "    # define a function to Normalize the data by loading control and by the drug-free readout\n",
    "    def datanorm(data):\n",
    "        \"\"\"Inputs data for a list of drugs organized by [[pMEKdata],[pERKdata],[MEKdata]]. The pMEK and pERK data for each drug are normalized by MEK (loading control) and then each of the two rows==normalized by first element (drug=0).\"\"\"\n",
    "        normdata0=[[row[0][iel]/row[-1][iel] for iel in range(len(row[0]))] for row in data]\n",
    "        normdata=[[row[iel]/row[0] for iel in range(len(row)) if iel > 0] for row in normdata0]\n",
    "        return normdata\n",
    "    drugnames=['AZ','TAK','LY','SB','GDC','DAB','AZ-VEM','VEM','PB']\n",
    "    drugvals=[0, 0.01, 0.03, 0.1, 0.3, 1, 3, 10] # micro-molar\n",
    "    ## DATA==INPUT for a list of drugs arranged as [[pMEK],[pERK],[MEK]] data for each drug with each element corresponding to above concentrations.\n",
    "    rawinpdata=[[[25, 55, 37, 40, 27, 17, 13, 10], [73, 119, 105, 92, 83, 50,37, 10], [34, 41, 29, 33, 32, 37, 37, 39]], [[22, 38, 49,   51, 45, 41, 25, 11], [90, 112, 139, 133, 150, 110, 58, 4], [27, 31,32, 33, 30, 31, 32, 35]], [[26, 41, 42, 39, 21, 12, 7,4], [105, 182, 159, 182, 97, 63, 13, 0.062], [59, 57, 51, 59, 53,   50, 50, 51]],[[17, 79, 83, 72, 49, 18, 5, 2], [89, 185, 182, 187, 166, 103,   15, 0.5], [32, 30, 33, 33, 32, 30, 30, 29]],[[7, 42, 63, 80, 73, 55, 23, 11], [71, 161, 176, 162, 176,   165, 118, 33], [43, 45, 40, 44, 44, 47, 47, 53]],[[25, 38, 64, 77, 84, 72, 72, 34], [110, 132, 158, 133, 161,   134, 160, 118], [51, 56, 61, 57, 55, 45, 51, 46]],[[14, 24, 31, 56, 59, 66, 73, 63], [76, 103, 124, 139, 146,   137, 153, 154], [61, 56, 55, 56, 52, 45, 55, 55]],[[26, 31, 37, 48, 48, 60, 71, 90], [113, 121, 127, 133, 133,   155, 156, 146], [68, 76, 91, 91, 91, 92, 91, 96]],[[38, 28, 34, 27, 33, 30, 35, 37], [100, 88, 79, 98, 102, 104,   98, 88], [44, 36, 42, 38, 38, 34, 36, 34]]]\n",
    "    normMEK=datanorm(rawinpdata)\n",
    "    drugvalsnorm=drugvals[1:] \n",
    "    RAFval=0.04 #uM\n",
    "    Kdimval=0.1 #uM\n",
    "    KAval=0.0001 # Fixes CA mechanism. Ignored when CA is specified in fitflag and KA is therefore varied.\n",
    "    normtyp=1\n",
    "    return fitdata(ydata=normMEK,drugvalues=drugvalsnorm,drugnames=drugnames,optionsinp={'fitflag':ff,'RAFval':RAFval,'Kdimval':Kdimval,'KA':KAval,'normtype':normtyp})"
   ]
  },
  {
   "cell_type": "raw",
   "metadata": {},
   "source": [
    "%%time\n",
    "# uncomment this block to run the simulation anew. - This is not necessary to reproduce results, prerun results are provided.\n",
    "Nruns=1500 # Total number of runs\n",
    "NeachRun=100 # store in file after this many runs\n",
    "niter=int(Nruns/NeachRun)\n",
    "# For the reasons of python importing system, restart the kernel each time a new fitflag is used - otherwise older libraries could remain in the memory. \n",
    "ff='2' \n",
    "AlgoInit=[ff]*NeachRun \n",
    "# Parallel process\n",
    "resglobal=[]\n",
    "for iter1 in range(niter):\n",
    "    if __name__=='__main__':\n",
    "        npool=min([len(AlgoInit),5])\n",
    "        po=Pool(npool)\n",
    "        resl=list(po.map(fitmeta,AlgoInit))\n",
    "        po.close()\n",
    "        po.join()\n",
    "        resglobal=resglobal+resl\n",
    "    print(iter1+1,'of',niter)\n",
    "    # since the run keeps taking too much time, save intermeidate results so far in a file and keep updating.\n",
    "    it1=0\n",
    "    for idf in resglobal:\n",
    "        idf['irun']=it1\n",
    "        it1+=1\n",
    "    dfres=pd.concat([elem for elem in resglobal if len(elem)>0])\n",
    "    foutname='SKMEL2_Karoulia_ff'+ff+'_normtp1_1Dec21.gz'\n",
    "    dfres.to_csv(foutname,sep='\\t',index=False)"
   ]
  },
  {
   "cell_type": "code",
   "execution_count": 3,
   "metadata": {},
   "outputs": [],
   "source": [
    "filelist=['SKMEL2_Karoulia_ff2_normtp1_1Dec21.gz','SKMEL2_Karoulia_ffCADP_normtp1_1Dec21.gz','SKMEL2_Karoulia_ffDPNC_normtp1_1Dec21.gz','SKMEL2_Karoulia_ffCANC_normtp1_1Dec21.gz','SKMEL2_Karoulia_ffCA_normtp1_1Dec21.gz','SKMEL2_Karoulia_ffDP_normtp1_1Dec21.gz','SKMEL2_Karoulia_ffNC_normtp1_1Dec21.gz'] \n",
    "modelslist=[ifile.split('_')[-3].split('ff')[1] for ifile in filelist]"
   ]
  },
  {
   "cell_type": "code",
   "execution_count": 4,
   "metadata": {},
   "outputs": [],
   "source": [
    "dic_res10p=dict()\n",
    "dic_dfreslist=dict()\n",
    "it1=0\n",
    "for ifile in filelist:\n",
    "    dfres=pd.read_csv(ifile,sep='\\t')\n",
    "    imodel=modelslist[it1]\n",
    "    dic_dfreslist[imodel]=dfres\n",
    "    minerr=min(dfres['fitmetric'])\n",
    "    max10p=minerr*1.1 # Since the best fit is not unique, a small interval is chosen around it to reprepsent best fits\n",
    "#     max10p=dfres.fitmetric.quantile(0.1)\n",
    "    dic_res10p[imodel]=dfres[dfres['fitmetric']<=max10p].sort_values(by='fitmetric')\n",
    "    it1+=1\n",
    "    del dfres\n",
    "#     del minerr\n",
    "    del max10p"
   ]
  },
  {
   "cell_type": "code",
   "execution_count": 5,
   "metadata": {},
   "outputs": [],
   "source": [
    "setlen=lambda x:len(set(x))"
   ]
  },
  {
   "cell_type": "code",
   "execution_count": 6,
   "metadata": {},
   "outputs": [
    {
     "data": {
      "text/plain": [
       "(1500, 35)"
      ]
     },
     "execution_count": 6,
     "metadata": {},
     "output_type": "execute_result"
    }
   ],
   "source": [
    "setlen(dic_dfreslist['2'].irun),setlen(dic_res10p['2'].irun)"
   ]
  },
  {
   "cell_type": "code",
   "execution_count": 7,
   "metadata": {
    "scrolled": true
   },
   "outputs": [],
   "source": [
    "dic_fitmetric={ikey:[dic_res10p[ikey].drop_duplicates('irun')['fitmetric'].quantile(0.025),dic_res10p[ikey].drop_duplicates('irun')['fitmetric'].mean(),dic_res10p[ikey].drop_duplicates('irun')['fitmetric'].quantile(.975)] for ikey in modelslist}\n",
    "df_fitmetric=pd.DataFrame(dic_fitmetric.values(),columns=['CL2.5','Mean','CL97.5'],index=modelslist)"
   ]
  },
  {
   "cell_type": "code",
   "execution_count": 8,
   "metadata": {},
   "outputs": [],
   "source": [
    "for ikey in modelslist:\n",
    "    dic_res10p[ikey]['Model']=ikey"
   ]
  },
  {
   "cell_type": "code",
   "execution_count": 9,
   "metadata": {},
   "outputs": [],
   "source": [
    "dfFM=pd.concat(dic_res10p.values()).drop_duplicates('irun')"
   ]
  },
  {
   "cell_type": "code",
   "execution_count": 10,
   "metadata": {
    "scrolled": true
   },
   "outputs": [
    {
     "data": {
      "text/plain": [
       "{'2', 'CA', 'CADP', 'CANC', 'DP', 'DPNC', 'NC'}"
      ]
     },
     "execution_count": 10,
     "metadata": {},
     "output_type": "execute_result"
    }
   ],
   "source": [
    "set(dfFM.Model)"
   ]
  },
  {
   "cell_type": "markdown",
   "metadata": {},
   "source": [
    "## Figure 3D"
   ]
  },
  {
   "cell_type": "code",
   "execution_count": 11,
   "metadata": {},
   "outputs": [
    {
     "data": {
      "image/png": "[encoded data removed]",
      "text/plain": [
       "<Figure size 504x720 with 1 Axes>"
      ]
     },
     "metadata": {
      "needs_background": "light"
     },
     "output_type": "display_data"
    }
   ],
   "source": [
    "plt.rc('axes', labelsize=35)    # fontsize of the x and y labels\n",
    "plt.rc('xtick', labelsize=35)    # fontsize of the tick labels\n",
    "plt.rc('ytick', labelsize=35)    # fontsize of the tick labels\n",
    "plt.subplots(figsize=(7,10))\n",
    "plot1=sbn.boxplot(y='Model',x='fitmetric',data=dfFM,linewidth=3,width=0.9,order=['DPNC', 'CANC', 'CADP', 'CA', 'DP','NC','2'])#,scale=\"width\")#,ax=ax1)\n",
    "plt.show()"
   ]
  }
 ],
 "metadata": {
  "kernelspec": {
   "display_name": "Python 3 (ipykernel)",
   "language": "python",
   "name": "python3"
  },
  "language_info": {
   "codemirror_mode": {
    "name": "ipython",
    "version": 3
   },
   "file_extension": ".py",
   "mimetype": "text/x-python",
   "name": "python",
   "nbconvert_exporter": "python",
   "pygments_lexer": "ipython3",
   "version": "3.8.8"
  }
 },
 "nbformat": 4,
 "nbformat_minor": 2
}
